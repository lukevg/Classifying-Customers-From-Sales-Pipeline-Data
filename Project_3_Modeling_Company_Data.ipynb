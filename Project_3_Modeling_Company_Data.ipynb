{
 "cells": [
  {
   "cell_type": "code",
   "execution_count": 34,
   "metadata": {},
   "outputs": [],
   "source": [
    "import numpy as np\n",
    "import pandas as pd\n",
    "from sklearn.neighbors import KNeighborsClassifier\n",
    "from sklearn.model_selection import RandomizedSearchCV\n",
    "from sklearn.model_selection import GridSearchCV\n",
    "from sklearn.metrics import confusion_matrix\n",
    "from sklearn.linear_model import LogisticRegression\n",
    "from sklearn import metrics\n",
    "from sklearn.datasets import make_blobs\n",
    "from sklearn.metrics import classification_report\n",
    "from sklearn.model_selection import cross_val_score\n",
    "from sklearn.model_selection import train_test_split\n",
    "from sklearn.model_selection import cross_validate\n",
    "from sklearn.metrics import precision_score, recall_score, precision_recall_curve, fbeta_score\n",
    "from sklearn.metrics import roc_curve, roc_auc_score\n",
    "from sklearn.metrics import f1_score\n",
    "from sklearn.tree import DecisionTreeClassifier\n",
    "from sklearn.ensemble import RandomForestClassifier, BaggingClassifier\n",
    "from sklearn.svm import SVC\n",
    "from sklearn.svm import LinearSVC\n",
    "from sklearn import svm\n",
    "import random\n",
    "from sklearn import datasets\n",
    "from sklearn.metrics import accuracy_score, confusion_matrix\n",
    "from sklearn.metrics import log_loss\n",
    "from sklearn.dummy import DummyClassifier\n",
    "from sklearn.naive_bayes import BernoulliNB, MultinomialNB, GaussianNB\n",
    "from sklearn.metrics import accuracy_score, classification_report\n",
    "import imblearn.over_sampling\n",
    "import imblearn.under_sampling\n",
    "import matplotlib.pyplot as plt\n",
    "%matplotlib inline\n",
    "import seaborn as sns\n",
    "import warnings\n",
    "warnings.filterwarnings('ignore')"
   ]
  },
  {
   "cell_type": "code",
   "execution_count": 35,
   "metadata": {},
   "outputs": [],
   "source": [
    "np.random.seed(42)"
   ]
  },
  {
   "cell_type": "code",
   "execution_count": 36,
   "metadata": {},
   "outputs": [
    {
     "data": {
      "text/html": [
       "<div>\n",
       "<style scoped>\n",
       "    .dataframe tbody tr th:only-of-type {\n",
       "        vertical-align: middle;\n",
       "    }\n",
       "\n",
       "    .dataframe tbody tr th {\n",
       "        vertical-align: top;\n",
       "    }\n",
       "\n",
       "    .dataframe thead th {\n",
       "        text-align: right;\n",
       "    }\n",
       "</style>\n",
       "<table border=\"1\" class=\"dataframe\">\n",
       "  <thead>\n",
       "    <tr style=\"text-align: right;\">\n",
       "      <th></th>\n",
       "      <th>Unnamed: 0</th>\n",
       "      <th>Number of Form Submissions</th>\n",
       "      <th>Number of Pageviews</th>\n",
       "      <th>Number of Visits</th>\n",
       "      <th>Signin_count</th>\n",
       "      <th>Mailchimp_Optouts</th>\n",
       "      <th>CO_PN</th>\n",
       "      <th>Lifecycle_Stage_Customer</th>\n",
       "      <th>Lifecycle_Stage_Lead</th>\n",
       "      <th>Lifecycle_Stage_Marketing Qualified Lead</th>\n",
       "      <th>...</th>\n",
       "      <th>Original_Source_Email Marketing</th>\n",
       "      <th>Original_Source_Offline Sources</th>\n",
       "      <th>Original_Source_Organic Search</th>\n",
       "      <th>Original_Source_Paid Search</th>\n",
       "      <th>Original_Source_Paid Social</th>\n",
       "      <th>Original_Source_Referrals</th>\n",
       "      <th>Original_Source_Social Media</th>\n",
       "      <th>Has_Site_Visits</th>\n",
       "      <th>Has_Form_Submissions</th>\n",
       "      <th>Has_Logins</th>\n",
       "    </tr>\n",
       "  </thead>\n",
       "  <tbody>\n",
       "    <tr>\n",
       "      <th>0</th>\n",
       "      <td>0</td>\n",
       "      <td>0</td>\n",
       "      <td>0</td>\n",
       "      <td>0</td>\n",
       "      <td>0.0</td>\n",
       "      <td>0</td>\n",
       "      <td>0</td>\n",
       "      <td>0</td>\n",
       "      <td>0</td>\n",
       "      <td>0</td>\n",
       "      <td>...</td>\n",
       "      <td>0</td>\n",
       "      <td>1</td>\n",
       "      <td>0</td>\n",
       "      <td>0</td>\n",
       "      <td>0</td>\n",
       "      <td>0</td>\n",
       "      <td>0</td>\n",
       "      <td>0</td>\n",
       "      <td>0</td>\n",
       "      <td>0</td>\n",
       "    </tr>\n",
       "    <tr>\n",
       "      <th>1</th>\n",
       "      <td>1</td>\n",
       "      <td>1</td>\n",
       "      <td>5</td>\n",
       "      <td>1</td>\n",
       "      <td>54.0</td>\n",
       "      <td>0</td>\n",
       "      <td>0</td>\n",
       "      <td>1</td>\n",
       "      <td>0</td>\n",
       "      <td>0</td>\n",
       "      <td>...</td>\n",
       "      <td>0</td>\n",
       "      <td>0</td>\n",
       "      <td>0</td>\n",
       "      <td>0</td>\n",
       "      <td>0</td>\n",
       "      <td>0</td>\n",
       "      <td>0</td>\n",
       "      <td>1</td>\n",
       "      <td>1</td>\n",
       "      <td>1</td>\n",
       "    </tr>\n",
       "    <tr>\n",
       "      <th>2</th>\n",
       "      <td>2</td>\n",
       "      <td>0</td>\n",
       "      <td>0</td>\n",
       "      <td>0</td>\n",
       "      <td>0.0</td>\n",
       "      <td>0</td>\n",
       "      <td>1</td>\n",
       "      <td>0</td>\n",
       "      <td>0</td>\n",
       "      <td>0</td>\n",
       "      <td>...</td>\n",
       "      <td>0</td>\n",
       "      <td>1</td>\n",
       "      <td>0</td>\n",
       "      <td>0</td>\n",
       "      <td>0</td>\n",
       "      <td>0</td>\n",
       "      <td>0</td>\n",
       "      <td>0</td>\n",
       "      <td>0</td>\n",
       "      <td>0</td>\n",
       "    </tr>\n",
       "    <tr>\n",
       "      <th>3</th>\n",
       "      <td>3</td>\n",
       "      <td>1</td>\n",
       "      <td>0</td>\n",
       "      <td>0</td>\n",
       "      <td>0.0</td>\n",
       "      <td>0</td>\n",
       "      <td>1</td>\n",
       "      <td>0</td>\n",
       "      <td>1</td>\n",
       "      <td>0</td>\n",
       "      <td>...</td>\n",
       "      <td>0</td>\n",
       "      <td>0</td>\n",
       "      <td>0</td>\n",
       "      <td>0</td>\n",
       "      <td>0</td>\n",
       "      <td>0</td>\n",
       "      <td>0</td>\n",
       "      <td>0</td>\n",
       "      <td>1</td>\n",
       "      <td>0</td>\n",
       "    </tr>\n",
       "    <tr>\n",
       "      <th>4</th>\n",
       "      <td>4</td>\n",
       "      <td>0</td>\n",
       "      <td>0</td>\n",
       "      <td>0</td>\n",
       "      <td>0.0</td>\n",
       "      <td>0</td>\n",
       "      <td>1</td>\n",
       "      <td>0</td>\n",
       "      <td>0</td>\n",
       "      <td>0</td>\n",
       "      <td>...</td>\n",
       "      <td>0</td>\n",
       "      <td>1</td>\n",
       "      <td>0</td>\n",
       "      <td>0</td>\n",
       "      <td>0</td>\n",
       "      <td>0</td>\n",
       "      <td>0</td>\n",
       "      <td>0</td>\n",
       "      <td>0</td>\n",
       "      <td>0</td>\n",
       "    </tr>\n",
       "  </tbody>\n",
       "</table>\n",
       "<p>5 rows × 23 columns</p>\n",
       "</div>"
      ],
      "text/plain": [
       "   Unnamed: 0  Number of Form Submissions  Number of Pageviews  \\\n",
       "0           0                           0                    0   \n",
       "1           1                           1                    5   \n",
       "2           2                           0                    0   \n",
       "3           3                           1                    0   \n",
       "4           4                           0                    0   \n",
       "\n",
       "   Number of Visits  Signin_count  Mailchimp_Optouts  CO_PN  \\\n",
       "0                 0           0.0                  0      0   \n",
       "1                 1          54.0                  0      0   \n",
       "2                 0           0.0                  0      1   \n",
       "3                 0           0.0                  0      1   \n",
       "4                 0           0.0                  0      1   \n",
       "\n",
       "   Lifecycle_Stage_Customer  Lifecycle_Stage_Lead  \\\n",
       "0                         0                     0   \n",
       "1                         1                     0   \n",
       "2                         0                     0   \n",
       "3                         0                     1   \n",
       "4                         0                     0   \n",
       "\n",
       "   Lifecycle_Stage_Marketing Qualified Lead  ...  \\\n",
       "0                                         0  ...   \n",
       "1                                         0  ...   \n",
       "2                                         0  ...   \n",
       "3                                         0  ...   \n",
       "4                                         0  ...   \n",
       "\n",
       "   Original_Source_Email Marketing  Original_Source_Offline Sources  \\\n",
       "0                                0                                1   \n",
       "1                                0                                0   \n",
       "2                                0                                1   \n",
       "3                                0                                0   \n",
       "4                                0                                1   \n",
       "\n",
       "   Original_Source_Organic Search  Original_Source_Paid Search  \\\n",
       "0                               0                            0   \n",
       "1                               0                            0   \n",
       "2                               0                            0   \n",
       "3                               0                            0   \n",
       "4                               0                            0   \n",
       "\n",
       "   Original_Source_Paid Social  Original_Source_Referrals  \\\n",
       "0                            0                          0   \n",
       "1                            0                          0   \n",
       "2                            0                          0   \n",
       "3                            0                          0   \n",
       "4                            0                          0   \n",
       "\n",
       "   Original_Source_Social Media  Has_Site_Visits  Has_Form_Submissions  \\\n",
       "0                             0                0                     0   \n",
       "1                             0                1                     1   \n",
       "2                             0                0                     0   \n",
       "3                             0                0                     1   \n",
       "4                             0                0                     0   \n",
       "\n",
       "   Has_Logins  \n",
       "0           0  \n",
       "1           1  \n",
       "2           0  \n",
       "3           0  \n",
       "4           0  \n",
       "\n",
       "[5 rows x 23 columns]"
      ]
     },
     "execution_count": 36,
     "metadata": {},
     "output_type": "execute_result"
    }
   ],
   "source": [
    "model_df = pd.read_csv('clean_df.csv')\n",
    "model_df.head()"
   ]
  },
  {
   "cell_type": "code",
   "execution_count": 37,
   "metadata": {},
   "outputs": [
    {
     "data": {
      "text/html": [
       "<div>\n",
       "<style scoped>\n",
       "    .dataframe tbody tr th:only-of-type {\n",
       "        vertical-align: middle;\n",
       "    }\n",
       "\n",
       "    .dataframe tbody tr th {\n",
       "        vertical-align: top;\n",
       "    }\n",
       "\n",
       "    .dataframe thead th {\n",
       "        text-align: right;\n",
       "    }\n",
       "</style>\n",
       "<table border=\"1\" class=\"dataframe\">\n",
       "  <thead>\n",
       "    <tr style=\"text-align: right;\">\n",
       "      <th></th>\n",
       "      <th>Number of Form Submissions</th>\n",
       "      <th>Number of Pageviews</th>\n",
       "      <th>Number of Visits</th>\n",
       "      <th>Signin_count</th>\n",
       "      <th>Mailchimp_Optouts</th>\n",
       "      <th>CO_PN</th>\n",
       "      <th>Lifecycle_Stage_Customer</th>\n",
       "      <th>Lifecycle_Stage_Lead</th>\n",
       "      <th>Lifecycle_Stage_Marketing Qualified Lead</th>\n",
       "      <th>Lifecycle_Stage_Opportunity</th>\n",
       "      <th>...</th>\n",
       "      <th>Original_Source_Email Marketing</th>\n",
       "      <th>Original_Source_Offline Sources</th>\n",
       "      <th>Original_Source_Organic Search</th>\n",
       "      <th>Original_Source_Paid Search</th>\n",
       "      <th>Original_Source_Paid Social</th>\n",
       "      <th>Original_Source_Referrals</th>\n",
       "      <th>Original_Source_Social Media</th>\n",
       "      <th>Has_Site_Visits</th>\n",
       "      <th>Has_Form_Submissions</th>\n",
       "      <th>Has_Logins</th>\n",
       "    </tr>\n",
       "  </thead>\n",
       "  <tbody>\n",
       "    <tr>\n",
       "      <th>0</th>\n",
       "      <td>0</td>\n",
       "      <td>0</td>\n",
       "      <td>0</td>\n",
       "      <td>0.0</td>\n",
       "      <td>0</td>\n",
       "      <td>0</td>\n",
       "      <td>0</td>\n",
       "      <td>0</td>\n",
       "      <td>0</td>\n",
       "      <td>0</td>\n",
       "      <td>...</td>\n",
       "      <td>0</td>\n",
       "      <td>1</td>\n",
       "      <td>0</td>\n",
       "      <td>0</td>\n",
       "      <td>0</td>\n",
       "      <td>0</td>\n",
       "      <td>0</td>\n",
       "      <td>0</td>\n",
       "      <td>0</td>\n",
       "      <td>0</td>\n",
       "    </tr>\n",
       "    <tr>\n",
       "      <th>1</th>\n",
       "      <td>1</td>\n",
       "      <td>5</td>\n",
       "      <td>1</td>\n",
       "      <td>54.0</td>\n",
       "      <td>0</td>\n",
       "      <td>0</td>\n",
       "      <td>1</td>\n",
       "      <td>0</td>\n",
       "      <td>0</td>\n",
       "      <td>0</td>\n",
       "      <td>...</td>\n",
       "      <td>0</td>\n",
       "      <td>0</td>\n",
       "      <td>0</td>\n",
       "      <td>0</td>\n",
       "      <td>0</td>\n",
       "      <td>0</td>\n",
       "      <td>0</td>\n",
       "      <td>1</td>\n",
       "      <td>1</td>\n",
       "      <td>1</td>\n",
       "    </tr>\n",
       "    <tr>\n",
       "      <th>2</th>\n",
       "      <td>0</td>\n",
       "      <td>0</td>\n",
       "      <td>0</td>\n",
       "      <td>0.0</td>\n",
       "      <td>0</td>\n",
       "      <td>1</td>\n",
       "      <td>0</td>\n",
       "      <td>0</td>\n",
       "      <td>0</td>\n",
       "      <td>0</td>\n",
       "      <td>...</td>\n",
       "      <td>0</td>\n",
       "      <td>1</td>\n",
       "      <td>0</td>\n",
       "      <td>0</td>\n",
       "      <td>0</td>\n",
       "      <td>0</td>\n",
       "      <td>0</td>\n",
       "      <td>0</td>\n",
       "      <td>0</td>\n",
       "      <td>0</td>\n",
       "    </tr>\n",
       "    <tr>\n",
       "      <th>3</th>\n",
       "      <td>1</td>\n",
       "      <td>0</td>\n",
       "      <td>0</td>\n",
       "      <td>0.0</td>\n",
       "      <td>0</td>\n",
       "      <td>1</td>\n",
       "      <td>0</td>\n",
       "      <td>1</td>\n",
       "      <td>0</td>\n",
       "      <td>0</td>\n",
       "      <td>...</td>\n",
       "      <td>0</td>\n",
       "      <td>0</td>\n",
       "      <td>0</td>\n",
       "      <td>0</td>\n",
       "      <td>0</td>\n",
       "      <td>0</td>\n",
       "      <td>0</td>\n",
       "      <td>0</td>\n",
       "      <td>1</td>\n",
       "      <td>0</td>\n",
       "    </tr>\n",
       "    <tr>\n",
       "      <th>4</th>\n",
       "      <td>0</td>\n",
       "      <td>0</td>\n",
       "      <td>0</td>\n",
       "      <td>0.0</td>\n",
       "      <td>0</td>\n",
       "      <td>1</td>\n",
       "      <td>0</td>\n",
       "      <td>0</td>\n",
       "      <td>0</td>\n",
       "      <td>0</td>\n",
       "      <td>...</td>\n",
       "      <td>0</td>\n",
       "      <td>1</td>\n",
       "      <td>0</td>\n",
       "      <td>0</td>\n",
       "      <td>0</td>\n",
       "      <td>0</td>\n",
       "      <td>0</td>\n",
       "      <td>0</td>\n",
       "      <td>0</td>\n",
       "      <td>0</td>\n",
       "    </tr>\n",
       "  </tbody>\n",
       "</table>\n",
       "<p>5 rows × 22 columns</p>\n",
       "</div>"
      ],
      "text/plain": [
       "   Number of Form Submissions  Number of Pageviews  Number of Visits  \\\n",
       "0                           0                    0                 0   \n",
       "1                           1                    5                 1   \n",
       "2                           0                    0                 0   \n",
       "3                           1                    0                 0   \n",
       "4                           0                    0                 0   \n",
       "\n",
       "   Signin_count  Mailchimp_Optouts  CO_PN  Lifecycle_Stage_Customer  \\\n",
       "0           0.0                  0      0                         0   \n",
       "1          54.0                  0      0                         1   \n",
       "2           0.0                  0      1                         0   \n",
       "3           0.0                  0      1                         0   \n",
       "4           0.0                  0      1                         0   \n",
       "\n",
       "   Lifecycle_Stage_Lead  Lifecycle_Stage_Marketing Qualified Lead  \\\n",
       "0                     0                                         0   \n",
       "1                     0                                         0   \n",
       "2                     0                                         0   \n",
       "3                     1                                         0   \n",
       "4                     0                                         0   \n",
       "\n",
       "   Lifecycle_Stage_Opportunity  ...  Original_Source_Email Marketing  \\\n",
       "0                            0  ...                                0   \n",
       "1                            0  ...                                0   \n",
       "2                            0  ...                                0   \n",
       "3                            0  ...                                0   \n",
       "4                            0  ...                                0   \n",
       "\n",
       "   Original_Source_Offline Sources  Original_Source_Organic Search  \\\n",
       "0                                1                               0   \n",
       "1                                0                               0   \n",
       "2                                1                               0   \n",
       "3                                0                               0   \n",
       "4                                1                               0   \n",
       "\n",
       "   Original_Source_Paid Search  Original_Source_Paid Social  \\\n",
       "0                            0                            0   \n",
       "1                            0                            0   \n",
       "2                            0                            0   \n",
       "3                            0                            0   \n",
       "4                            0                            0   \n",
       "\n",
       "   Original_Source_Referrals  Original_Source_Social Media  Has_Site_Visits  \\\n",
       "0                          0                             0                0   \n",
       "1                          0                             0                1   \n",
       "2                          0                             0                0   \n",
       "3                          0                             0                0   \n",
       "4                          0                             0                0   \n",
       "\n",
       "   Has_Form_Submissions  Has_Logins  \n",
       "0                     0           0  \n",
       "1                     1           1  \n",
       "2                     0           0  \n",
       "3                     1           0  \n",
       "4                     0           0  \n",
       "\n",
       "[5 rows x 22 columns]"
      ]
     },
     "execution_count": 37,
     "metadata": {},
     "output_type": "execute_result"
    }
   ],
   "source": [
    "model_df = model_df.drop(columns=['Unnamed: 0'])\n",
    "model_df.head()"
   ]
  },
  {
   "cell_type": "code",
   "execution_count": 38,
   "metadata": {},
   "outputs": [
    {
     "data": {
      "text/plain": [
       "Index(['Number of Form Submissions', 'Number of Pageviews', 'Number of Visits',\n",
       "       'Signin_count', 'Mailchimp_Optouts', 'CO_PN',\n",
       "       'Lifecycle_Stage_Customer', 'Lifecycle_Stage_Lead',\n",
       "       'Lifecycle_Stage_Marketing Qualified Lead',\n",
       "       'Lifecycle_Stage_Opportunity', 'Lifecycle_Stage_Sales Qualified Lead',\n",
       "       'Original_Source_Direct Traffic', 'Original_Source_Email Marketing',\n",
       "       'Original_Source_Offline Sources', 'Original_Source_Organic Search',\n",
       "       'Original_Source_Paid Search', 'Original_Source_Paid Social',\n",
       "       'Original_Source_Referrals', 'Original_Source_Social Media',\n",
       "       'Has_Site_Visits', 'Has_Form_Submissions', 'Has_Logins'],\n",
       "      dtype='object')"
      ]
     },
     "execution_count": 38,
     "metadata": {},
     "output_type": "execute_result"
    }
   ],
   "source": [
    "model_df.columns"
   ]
  },
  {
   "cell_type": "code",
   "execution_count": 39,
   "metadata": {},
   "outputs": [
    {
     "data": {
      "text/plain": [
       "0    8676\n",
       "1    4532\n",
       "Name: Lifecycle_Stage_Customer, dtype: int64"
      ]
     },
     "execution_count": 39,
     "metadata": {},
     "output_type": "execute_result"
    }
   ],
   "source": [
    "model_df['Lifecycle_Stage_Customer'].value_counts()"
   ]
  },
  {
   "cell_type": "code",
   "execution_count": 40,
   "metadata": {
    "scrolled": false
   },
   "outputs": [
    {
     "data": {
      "text/html": [
       "<div>\n",
       "<style scoped>\n",
       "    .dataframe tbody tr th:only-of-type {\n",
       "        vertical-align: middle;\n",
       "    }\n",
       "\n",
       "    .dataframe tbody tr th {\n",
       "        vertical-align: top;\n",
       "    }\n",
       "\n",
       "    .dataframe thead th {\n",
       "        text-align: right;\n",
       "    }\n",
       "</style>\n",
       "<table border=\"1\" class=\"dataframe\">\n",
       "  <thead>\n",
       "    <tr style=\"text-align: right;\">\n",
       "      <th></th>\n",
       "      <th>Number of Form Submissions</th>\n",
       "      <th>Number of Pageviews</th>\n",
       "      <th>Number of Visits</th>\n",
       "      <th>Signin_count</th>\n",
       "      <th>Mailchimp_Optouts</th>\n",
       "      <th>CO_PN</th>\n",
       "      <th>Lifecycle_Stage_Lead</th>\n",
       "      <th>Lifecycle_Stage_Marketing Qualified Lead</th>\n",
       "      <th>Lifecycle_Stage_Opportunity</th>\n",
       "      <th>Lifecycle_Stage_Sales Qualified Lead</th>\n",
       "      <th>...</th>\n",
       "      <th>Original_Source_Email Marketing</th>\n",
       "      <th>Original_Source_Offline Sources</th>\n",
       "      <th>Original_Source_Organic Search</th>\n",
       "      <th>Original_Source_Paid Search</th>\n",
       "      <th>Original_Source_Paid Social</th>\n",
       "      <th>Original_Source_Referrals</th>\n",
       "      <th>Original_Source_Social Media</th>\n",
       "      <th>Has_Site_Visits</th>\n",
       "      <th>Has_Form_Submissions</th>\n",
       "      <th>Has_Logins</th>\n",
       "    </tr>\n",
       "    <tr>\n",
       "      <th>Lifecycle_Stage_Customer</th>\n",
       "      <th></th>\n",
       "      <th></th>\n",
       "      <th></th>\n",
       "      <th></th>\n",
       "      <th></th>\n",
       "      <th></th>\n",
       "      <th></th>\n",
       "      <th></th>\n",
       "      <th></th>\n",
       "      <th></th>\n",
       "      <th></th>\n",
       "      <th></th>\n",
       "      <th></th>\n",
       "      <th></th>\n",
       "      <th></th>\n",
       "      <th></th>\n",
       "      <th></th>\n",
       "      <th></th>\n",
       "      <th></th>\n",
       "      <th></th>\n",
       "      <th></th>\n",
       "    </tr>\n",
       "  </thead>\n",
       "  <tbody>\n",
       "    <tr>\n",
       "      <th>0</th>\n",
       "      <td>0.94698</td>\n",
       "      <td>7.427732</td>\n",
       "      <td>2.876441</td>\n",
       "      <td>5.688819</td>\n",
       "      <td>0.011526</td>\n",
       "      <td>0.770747</td>\n",
       "      <td>0.563854</td>\n",
       "      <td>0.0642</td>\n",
       "      <td>0.151683</td>\n",
       "      <td>0.160788</td>\n",
       "      <td>...</td>\n",
       "      <td>0.070539</td>\n",
       "      <td>0.470148</td>\n",
       "      <td>0.119064</td>\n",
       "      <td>0.045067</td>\n",
       "      <td>0.015560</td>\n",
       "      <td>0.055210</td>\n",
       "      <td>0.033080</td>\n",
       "      <td>0.548640</td>\n",
       "      <td>0.556132</td>\n",
       "      <td>0.186607</td>\n",
       "    </tr>\n",
       "    <tr>\n",
       "      <th>1</th>\n",
       "      <td>0.98985</td>\n",
       "      <td>23.616284</td>\n",
       "      <td>9.347970</td>\n",
       "      <td>13.248897</td>\n",
       "      <td>0.009047</td>\n",
       "      <td>0.253751</td>\n",
       "      <td>0.000000</td>\n",
       "      <td>0.0000</td>\n",
       "      <td>0.000000</td>\n",
       "      <td>0.000000</td>\n",
       "      <td>...</td>\n",
       "      <td>0.096425</td>\n",
       "      <td>0.544572</td>\n",
       "      <td>0.112533</td>\n",
       "      <td>0.024713</td>\n",
       "      <td>0.002648</td>\n",
       "      <td>0.014784</td>\n",
       "      <td>0.011033</td>\n",
       "      <td>0.526478</td>\n",
       "      <td>0.529347</td>\n",
       "      <td>0.514342</td>\n",
       "    </tr>\n",
       "  </tbody>\n",
       "</table>\n",
       "<p>2 rows × 21 columns</p>\n",
       "</div>"
      ],
      "text/plain": [
       "                          Number of Form Submissions  Number of Pageviews  \\\n",
       "Lifecycle_Stage_Customer                                                    \n",
       "0                                            0.94698             7.427732   \n",
       "1                                            0.98985            23.616284   \n",
       "\n",
       "                          Number of Visits  Signin_count  Mailchimp_Optouts  \\\n",
       "Lifecycle_Stage_Customer                                                      \n",
       "0                                 2.876441      5.688819           0.011526   \n",
       "1                                 9.347970     13.248897           0.009047   \n",
       "\n",
       "                             CO_PN  Lifecycle_Stage_Lead  \\\n",
       "Lifecycle_Stage_Customer                                   \n",
       "0                         0.770747              0.563854   \n",
       "1                         0.253751              0.000000   \n",
       "\n",
       "                          Lifecycle_Stage_Marketing Qualified Lead  \\\n",
       "Lifecycle_Stage_Customer                                             \n",
       "0                                                           0.0642   \n",
       "1                                                           0.0000   \n",
       "\n",
       "                          Lifecycle_Stage_Opportunity  \\\n",
       "Lifecycle_Stage_Customer                                \n",
       "0                                            0.151683   \n",
       "1                                            0.000000   \n",
       "\n",
       "                          Lifecycle_Stage_Sales Qualified Lead  ...  \\\n",
       "Lifecycle_Stage_Customer                                        ...   \n",
       "0                                                     0.160788  ...   \n",
       "1                                                     0.000000  ...   \n",
       "\n",
       "                          Original_Source_Email Marketing  \\\n",
       "Lifecycle_Stage_Customer                                    \n",
       "0                                                0.070539   \n",
       "1                                                0.096425   \n",
       "\n",
       "                          Original_Source_Offline Sources  \\\n",
       "Lifecycle_Stage_Customer                                    \n",
       "0                                                0.470148   \n",
       "1                                                0.544572   \n",
       "\n",
       "                          Original_Source_Organic Search  \\\n",
       "Lifecycle_Stage_Customer                                   \n",
       "0                                               0.119064   \n",
       "1                                               0.112533   \n",
       "\n",
       "                          Original_Source_Paid Search  \\\n",
       "Lifecycle_Stage_Customer                                \n",
       "0                                            0.045067   \n",
       "1                                            0.024713   \n",
       "\n",
       "                          Original_Source_Paid Social  \\\n",
       "Lifecycle_Stage_Customer                                \n",
       "0                                            0.015560   \n",
       "1                                            0.002648   \n",
       "\n",
       "                          Original_Source_Referrals  \\\n",
       "Lifecycle_Stage_Customer                              \n",
       "0                                          0.055210   \n",
       "1                                          0.014784   \n",
       "\n",
       "                          Original_Source_Social Media  Has_Site_Visits  \\\n",
       "Lifecycle_Stage_Customer                                                  \n",
       "0                                             0.033080         0.548640   \n",
       "1                                             0.011033         0.526478   \n",
       "\n",
       "                          Has_Form_Submissions  Has_Logins  \n",
       "Lifecycle_Stage_Customer                                    \n",
       "0                                     0.556132    0.186607  \n",
       "1                                     0.529347    0.514342  \n",
       "\n",
       "[2 rows x 21 columns]"
      ]
     },
     "execution_count": 40,
     "metadata": {},
     "output_type": "execute_result"
    }
   ],
   "source": [
    "# Look at means of each feature for customer and non-customer groups to see which features might be predictive\n",
    "customer_means = model_df.groupby('Lifecycle_Stage_Customer').mean()\n",
    "customer_means"
   ]
  },
  {
   "cell_type": "markdown",
   "metadata": {},
   "source": [
    "### Functions to call on different models to get various model scores or visualizations"
   ]
  },
  {
   "cell_type": "code",
   "execution_count": 41,
   "metadata": {},
   "outputs": [],
   "source": [
    "def cross_validate(model, kfolds):\n",
    "    '''\n",
    "    This function reads in a baseline model, set kfolds for cross validation, and returns scoring metrics.\n",
    "    '''\n",
    "    accuracy = cross_val_score(model, X_train, y_train, cv = kfolds, scoring = 'accuracy').mean()\n",
    "    roc = cross_val_score(model, X_train, y_train, cv = kfolds, scoring = 'roc_auc').mean()\n",
    "    f1 = cross_val_score(model, X_train, y_train, cv = kfolds, scoring = 'f1').mean()\n",
    "    recall = cross_val_score(model, X_train, y_train, cv = kfolds, scoring = 'recall').mean()\n",
    "    print('Accuracy Score: %s'%(accuracy))\n",
    "    print('ROC AUC Score: %s'%(roc))\n",
    "    print('F1 Score: %s'%(f1))\n",
    "    print('Recall Score: %s'%(recall))"
   ]
  },
  {
   "cell_type": "code",
   "execution_count": 43,
   "metadata": {},
   "outputs": [],
   "source": [
    "def make_confusion_matrix(model, threshold=0.5):\n",
    "    '''\n",
    "    Create confusion matrix based on correct and incorrect predictions of whether each observation\n",
    "    is a customer or non-customer\n",
    "    '''\n",
    "    \n",
    "    y_predict = (model.predict_proba(X_test)[:, 1] >= threshold)\n",
    "    fraud_confusion = confusion_matrix(y_test, y_predict)\n",
    "    plt.figure(dpi=80)\n",
    "    sns.heatmap(fraud_confusion, cmap=plt.cm.Purples, annot=True, square=True, fmt='d',\n",
    "           xticklabels=['non-customer', 'customer'],\n",
    "           yticklabels=['non-customer', 'customer']);\n",
    "    plt.xlabel('Prediction')\n",
    "    plt.ylabel('Actual')"
   ]
  },
  {
   "cell_type": "code",
   "execution_count": 42,
   "metadata": {},
   "outputs": [],
   "source": [
    "def model_scores(model):\n",
    "    '''\n",
    "    Takes in each model type along with X, y train values. Outputs model scores on test set for each model.\n",
    "    '''\n",
    "    \n",
    "    model_fit = model.fit(X_train, y_train)\n",
    "    y_predict = model_fit.predict(X_train)\n",
    "    \n",
    "    print('ROC Score: %s'%(roc_auc_score(y_train, y_predict)))\n",
    "    print('F1 Score: %s'%(f1_score(y_train, y_predict)))\n",
    "    print('Recall Score: %s'%(recall_score(y_train, y_predict)))\n",
    "\n",
    "    return model_fit"
   ]
  },
  {
   "cell_type": "code",
   "execution_count": 44,
   "metadata": {},
   "outputs": [],
   "source": [
    "def f1_scores(model_type):\n",
    "    '''\n",
    "    Compute model precision and recall scores at each probability threshold to output the best F1 score for a model type\n",
    "    '''\n",
    "    X_val, y_val = X_test, y_test \n",
    "\n",
    "    thresh_ps = np.linspace(.10,.50,100)\n",
    "    model_val_probs = model_type.predict_proba(X_val)[:,1] \n",
    "    f1_scores = []\n",
    "    for p in thresh_ps:\n",
    "        model_val_labels = model_val_probs >= p\n",
    "        f1_scores.append(f1_score(model_val_labels, y_val))\n",
    "\n",
    "    plt.plot(thresh_ps, f1_scores)\n",
    "    plt.title('F1 Score vs. Positive Class Decision Probability Threshold')\n",
    "    plt.xlabel('P threshold')\n",
    "    plt.ylabel('F1 score')\n",
    "\n",
    "    best_f1_score = np.max(f1_scores) \n",
    "    best_thresh_p = thresh_ps[np.argmax(f1_scores)]\n",
    "\n",
    "    print('Highest F1 score %.3f at probability decision threshold >= %.3f' \n",
    "          % (best_f1_score, best_thresh_p))"
   ]
  },
  {
   "cell_type": "code",
   "execution_count": 45,
   "metadata": {},
   "outputs": [],
   "source": [
    "def threshold_cm(model, threshold=0.5):\n",
    "    '''\n",
    "    Create confusion matrix based on correct and incorrect predictions of whether each observation\n",
    "    is a customer or non-customer at any proability threshold\n",
    "    '''\n",
    "    y_predict = (model.predict_proba(X_test)[:, 1] >= threshold)\n",
    "    fraud_confusion = confusion_matrix(y_test, y_predict)\n",
    "    print('Recall: %s'%(recall_score(y_test, y_predict)))\n",
    "    plt.figure(dpi=80)\n",
    "    thresh_cm = sns.heatmap(fraud_confusion, cmap=plt.cm.Purples, annot=True, square=True, fmt='d',\n",
    "           xticklabels=['Non-Customer', 'Customer'],\n",
    "           yticklabels=['Non-Customer', 'Customer']);\n",
    "    thresh_cm.set_yticklabels(thresh_cm.get_yticklabels(), rotation = 0)\n",
    "    plt.xlabel('Predictions', fontsize=10)\n",
    "    plt.ylabel('Actual Values', rotation=0, fontsize=10)\n",
    "    plt.title('Customer and Non-Customer Predictions')\n",
    "    plt.tight_layout()\n",
    "    plt.show()"
   ]
  },
  {
   "cell_type": "code",
   "execution_count": 46,
   "metadata": {
    "scrolled": true
   },
   "outputs": [
    {
     "data": {
      "text/plain": [
       "Lifecycle_Stage_Customer                    1.000000\n",
       "Has_Logins                                  0.339838\n",
       "Number of Visits                            0.132127\n",
       "Number of Pageviews                         0.099941\n",
       "Original_Source_Offline Sources             0.070669\n",
       "Original_Source_Email Marketing             0.045450\n",
       "Number of Form Submissions                  0.014423\n",
       "Signin_count                                0.010211\n",
       "Original_Source_Direct Traffic              0.007347\n",
       "Original_Source_Organic Search             -0.009653\n",
       "Mailchimp_Optouts                          -0.011453\n",
       "Has_Site_Visits                            -0.021114\n",
       "Has_Form_Submissions                       -0.025545\n",
       "Original_Source_Paid Search                -0.050487\n",
       "Original_Source_Paid Social                -0.058434\n",
       "Original_Source_Social Media               -0.066380\n",
       "Original_Source_Referrals                  -0.096409\n",
       "Lifecycle_Stage_Marketing Qualified Lead   -0.151653\n",
       "Lifecycle_Stage_Opportunity                -0.240428\n",
       "Lifecycle_Stage_Sales Qualified Lead       -0.248366\n",
       "CO_PN                                      -0.499677\n",
       "Lifecycle_Stage_Lead                       -0.554334\n",
       "Name: Lifecycle_Stage_Customer, dtype: float64"
      ]
     },
     "execution_count": 46,
     "metadata": {},
     "output_type": "execute_result"
    }
   ],
   "source": [
    "model_df.corr()['Lifecycle_Stage_Customer'].sort_values(ascending=False)"
   ]
  },
  {
   "cell_type": "markdown",
   "metadata": {},
   "source": [
    "Start by running baseline classification models on all features."
   ]
  },
  {
   "cell_type": "code",
   "execution_count": 47,
   "metadata": {},
   "outputs": [],
   "source": [
    "X = model_df.drop(columns = ['Lifecycle_Stage_Customer'])\n",
    "y = model_df['Lifecycle_Stage_Customer']"
   ]
  },
  {
   "cell_type": "code",
   "execution_count": 48,
   "metadata": {},
   "outputs": [],
   "source": [
    "X_train, X_test, y_train, y_test = train_test_split(X, y, test_size=0.2, random_state=42)"
   ]
  },
  {
   "cell_type": "code",
   "execution_count": 49,
   "metadata": {},
   "outputs": [
    {
     "name": "stdout",
     "output_type": "stream",
     "text": [
      "ROC Score: 0.8955570666759536\n",
      "F1 Score: 0.8602061855670105\n",
      "Recall Score: 0.8698915763135947\n"
     ]
    }
   ],
   "source": [
    "knn = model_scores(KNeighborsClassifier(n_neighbors= 10))"
   ]
  },
  {
   "cell_type": "code",
   "execution_count": 50,
   "metadata": {},
   "outputs": [
    {
     "name": "stdout",
     "output_type": "stream",
     "text": [
      "Accuracy Score: 0.8809404309687757\n",
      "ROC AUC Score: 0.9515962616063133\n",
      "F1 Score: 0.8234175731161868\n",
      "Recall Score: 0.8168096121155927\n"
     ]
    }
   ],
   "source": [
    "cross_validate(knn, 5)"
   ]
  },
  {
   "cell_type": "code",
   "execution_count": 51,
   "metadata": {},
   "outputs": [
    {
     "name": "stdout",
     "output_type": "stream",
     "text": [
      "ROC Score: 0.9720145129790204\n",
      "F1 Score: 0.950132625994695\n",
      "Recall Score: 0.9958298582151793\n"
     ]
    }
   ],
   "source": [
    "logit = model_scores(LogisticRegression(C = 1))"
   ]
  },
  {
   "cell_type": "code",
   "execution_count": 52,
   "metadata": {},
   "outputs": [
    {
     "name": "stdout",
     "output_type": "stream",
     "text": [
      "Accuracy Score: 0.9636557186225472\n",
      "ROC AUC Score: 0.9952022002199463\n",
      "F1 Score: 0.9491795041307579\n",
      "Recall Score: 0.9952754597434709\n"
     ]
    }
   ],
   "source": [
    "cross_validate(logit, 5)"
   ]
  },
  {
   "cell_type": "code",
   "execution_count": 53,
   "metadata": {},
   "outputs": [
    {
     "name": "stdout",
     "output_type": "stream",
     "text": [
      "ROC Score: 0.9174894154752532\n",
      "F1 Score: 0.9081893313298274\n",
      "Recall Score: 0.8401445649152072\n"
     ]
    }
   ],
   "source": [
    "bernoulli_nb = model_scores(BernoulliNB())"
   ]
  },
  {
   "cell_type": "code",
   "execution_count": 54,
   "metadata": {
    "scrolled": true
   },
   "outputs": [
    {
     "name": "stdout",
     "output_type": "stream",
     "text": [
      "Accuracy Score: 0.9421725435254796\n",
      "ROC AUC Score: 0.9938717014579513\n",
      "F1 Score: 0.9081793181567835\n",
      "Recall Score: 0.8401452634832328\n"
     ]
    }
   ],
   "source": [
    "cross_validate(bernoulli_nb,5)"
   ]
  },
  {
   "cell_type": "code",
   "execution_count": 55,
   "metadata": {},
   "outputs": [
    {
     "name": "stdout",
     "output_type": "stream",
     "text": [
      "ROC Score: 0.9701716083056251\n",
      "F1 Score: 0.94909381663113\n",
      "Recall Score: 0.9899916597164303\n"
     ]
    }
   ],
   "source": [
    "svm = model_scores(svm.LinearSVC())"
   ]
  },
  {
   "cell_type": "code",
   "execution_count": 56,
   "metadata": {},
   "outputs": [],
   "source": [
    "#make_confusion_matrix(svm)"
   ]
  },
  {
   "cell_type": "markdown",
   "metadata": {},
   "source": [
    "Will not use SVM models going forward because they are providing low scores and do not give probabilities."
   ]
  },
  {
   "cell_type": "markdown",
   "metadata": {},
   "source": [
    "The models above only perform well because other lifecycle stages are used as a predictor, must remove since they are multicollinear with the target variable. Will remove those variables from model going forward."
   ]
  },
  {
   "cell_type": "markdown",
   "metadata": {},
   "source": [
    "#### After running models on different combinations of variables, the variables not commented out in reduced_x below produced the best model scores. Adding more variables does not increase model scores, while removing more than the 4 variables below significantly reduces all model scores."
   ]
  },
  {
   "cell_type": "code",
   "execution_count": 57,
   "metadata": {},
   "outputs": [],
   "source": [
    "#model_df[reduced_x].corr()['Lifecycle_Stage_Customer']"
   ]
  },
  {
   "cell_type": "code",
   "execution_count": 58,
   "metadata": {},
   "outputs": [],
   "source": [
    "reduced_x = ['Number of Pageviews', 'Number of Visits',\n",
    "        'CO_PN', 'Has_Logins'] #'Lifecycle_Stage_Customer']\n",
    "       #'Original_Source_Direct Traffic', 'Original_Source_Organic Search' 'Original_Source_Email Marketing',\n",
    "       #'Original_Source_Offline Sources', 'Original_Source_Email Marketing'\n",
    "       #'Original_Source_Paid Search', 'Original_Source_Paid Social', 'Original_Source_Referrals']\n",
    "        #'Signin count', 'Number of Form Submissions', \n",
    "       #'Original_Source_Referrals', 'Original_Source_Social Media']\n",
    "        #'Has_Form_Submissions', 'Mailchimp_Optouts', 'Has_Site_Visits']"
   ]
  },
  {
   "cell_type": "code",
   "execution_count": 59,
   "metadata": {},
   "outputs": [
    {
     "data": {
      "image/png": "[encoded data removed]",
      "text/plain": [
       "<Figure size 720x720 with 20 Axes>"
      ]
     },
     "metadata": {
      "needs_background": "light"
     },
     "output_type": "display_data"
    }
   ],
   "source": [
    "sns.pairplot(model_df[reduced_x]);"
   ]
  },
  {
   "cell_type": "markdown",
   "metadata": {},
   "source": [
    "#### Only clear separation of classes seen in pairplots is for people with high volume of pageviews and site visits. After running models on different combinations of variables, the ones not commented out in reduced_x above produced the best model scores. Adding more variables does not increase model scores, while removing more than the 4 variables above significantly reduces all model scores.\n",
    "\n"
   ]
  },
  {
   "cell_type": "code",
   "execution_count": 60,
   "metadata": {},
   "outputs": [],
   "source": [
    "X = model_df[reduced_x]\n",
    "y = model_df['Lifecycle_Stage_Customer']"
   ]
  },
  {
   "cell_type": "code",
   "execution_count": 61,
   "metadata": {},
   "outputs": [],
   "source": [
    "X_train, X_test, y_train, y_test = train_test_split(X, y, test_size=0.2, random_state=42)"
   ]
  },
  {
   "cell_type": "code",
   "execution_count": 62,
   "metadata": {},
   "outputs": [
    {
     "name": "stdout",
     "output_type": "stream",
     "text": [
      "ROC Score: 0.7475838728667442\n",
      "F1 Score: 0.6656474545176579\n",
      "Recall Score: 0.605226577703642\n"
     ]
    }
   ],
   "source": [
    "knn = model_scores(KNeighborsClassifier(n_neighbors= 10))"
   ]
  },
  {
   "cell_type": "code",
   "execution_count": 63,
   "metadata": {},
   "outputs": [
    {
     "name": "stdout",
     "output_type": "stream",
     "text": [
      "Accuracy Score: 0.7760754615944363\n",
      "ROC AUC Score: 0.8139876930800376\n",
      "F1 Score: 0.6353654023826792\n",
      "Recall Score: 0.5732564518621542\n"
     ]
    }
   ],
   "source": [
    "cross_validate(knn, 5)"
   ]
  },
  {
   "cell_type": "code",
   "execution_count": 64,
   "metadata": {},
   "outputs": [
    {
     "data": {
      "image/png": "[encoded data removed]",
      "text/plain": [
       "<Figure size 480x320 with 2 Axes>"
      ]
     },
     "metadata": {
      "needs_background": "light"
     },
     "output_type": "display_data"
    }
   ],
   "source": [
    "make_confusion_matrix(knn)"
   ]
  },
  {
   "cell_type": "code",
   "execution_count": 65,
   "metadata": {},
   "outputs": [
    {
     "name": "stdout",
     "output_type": "stream",
     "text": [
      "ROC Score: 0.6911478942070514\n",
      "F1 Score: 0.5781300549983824\n",
      "Recall Score: 0.49680289129830413\n"
     ]
    }
   ],
   "source": [
    "log_reg = model_scores(LogisticRegression(C = 1, solver='liblinear'))"
   ]
  },
  {
   "cell_type": "code",
   "execution_count": 66,
   "metadata": {},
   "outputs": [
    {
     "name": "stdout",
     "output_type": "stream",
     "text": [
      "Accuracy Score: 0.7511860185101932\n",
      "ROC AUC Score: 0.8154823138417804\n",
      "F1 Score: 0.5764520477381294\n",
      "Recall Score: 0.4976359913460053\n"
     ]
    }
   ],
   "source": [
    "cross_validate(log_reg, 5)"
   ]
  },
  {
   "cell_type": "code",
   "execution_count": 67,
   "metadata": {},
   "outputs": [
    {
     "data": {
      "image/png": "[encoded data removed]",
      "text/plain": [
       "<Figure size 480x320 with 2 Axes>"
      ]
     },
     "metadata": {
      "needs_background": "light"
     },
     "output_type": "display_data"
    }
   ],
   "source": [
    "make_confusion_matrix(log_reg)"
   ]
  },
  {
   "cell_type": "code",
   "execution_count": 68,
   "metadata": {},
   "outputs": [
    {
     "name": "stdout",
     "output_type": "stream",
     "text": [
      "ROC Score: 0.6835213637039812\n",
      "F1 Score: 0.5523255813953488\n",
      "Recall Score: 0.422574367528496\n"
     ]
    }
   ],
   "source": [
    "gaussian_nb = model_scores(GaussianNB())"
   ]
  },
  {
   "cell_type": "code",
   "execution_count": 69,
   "metadata": {},
   "outputs": [
    {
     "name": "stdout",
     "output_type": "stream",
     "text": [
      "Accuracy Score: 0.7513721894451953\n",
      "ROC AUC Score: 0.8207266954224852\n",
      "F1 Score: 0.489684137688051\n",
      "Recall Score: 0.3669444444444444\n"
     ]
    }
   ],
   "source": [
    "cross_validate(gaussian_nb, 5)"
   ]
  },
  {
   "cell_type": "code",
   "execution_count": 70,
   "metadata": {},
   "outputs": [
    {
     "data": {
      "image/png": "[encoded data removed]",
      "text/plain": [
       "<Figure size 480x320 with 2 Axes>"
      ]
     },
     "metadata": {
      "needs_background": "light"
     },
     "output_type": "display_data"
    }
   ],
   "source": [
    "make_confusion_matrix(gaussian_nb)"
   ]
  },
  {
   "cell_type": "code",
   "execution_count": 71,
   "metadata": {},
   "outputs": [
    {
     "name": "stdout",
     "output_type": "stream",
     "text": [
      "ROC Score: 0.7394320205853853\n",
      "F1 Score: 0.6532333645735708\n",
      "Recall Score: 0.5813177648040033\n"
     ]
    }
   ],
   "source": [
    "bernoulli_nb = model_scores(BernoulliNB())"
   ]
  },
  {
   "cell_type": "code",
   "execution_count": 72,
   "metadata": {},
   "outputs": [
    {
     "name": "stdout",
     "output_type": "stream",
     "text": [
      "Accuracy Score: 0.7902715845411821\n",
      "ROC AUC Score: 0.82588172718264\n",
      "F1 Score: 0.6523632478251759\n",
      "Recall Score: 0.5779809921186833\n"
     ]
    }
   ],
   "source": [
    "cross_validate(bernoulli_nb, 5)"
   ]
  },
  {
   "cell_type": "code",
   "execution_count": 73,
   "metadata": {},
   "outputs": [
    {
     "data": {
      "image/png": "[encoded data removed]",
      "text/plain": [
       "<Figure size 480x320 with 2 Axes>"
      ]
     },
     "metadata": {
      "needs_background": "light"
     },
     "output_type": "display_data"
    }
   ],
   "source": [
    "make_confusion_matrix(bernoulli_nb)"
   ]
  },
  {
   "cell_type": "code",
   "execution_count": 74,
   "metadata": {},
   "outputs": [
    {
     "name": "stdout",
     "output_type": "stream",
     "text": [
      "ROC Score: 0.7923213741398072\n",
      "F1 Score: 0.7304932050694762\n",
      "Recall Score: 0.6649986099527384\n"
     ]
    }
   ],
   "source": [
    "d_tree = model_scores(DecisionTreeClassifier())"
   ]
  },
  {
   "cell_type": "code",
   "execution_count": 75,
   "metadata": {},
   "outputs": [
    {
     "name": "stdout",
     "output_type": "stream",
     "text": [
      "Accuracy Score: 0.7706811390507186\n",
      "ROC AUC Score: 0.7610008630273588\n",
      "F1 Score: 0.6404250603290977\n",
      "Recall Score: 0.5963332560655231\n"
     ]
    }
   ],
   "source": [
    "cross_validate(d_tree, 5)"
   ]
  },
  {
   "cell_type": "code",
   "execution_count": 76,
   "metadata": {},
   "outputs": [
    {
     "name": "stdout",
     "output_type": "stream",
     "text": [
      "ROC Score: 0.8019348404724796\n",
      "F1 Score: 0.7417373501023692\n",
      "Recall Score: 0.705031971087017\n"
     ]
    }
   ],
   "source": [
    "rf = model_scores(RandomForestClassifier(n_estimators=500, max_depth = 50))"
   ]
  },
  {
   "cell_type": "code",
   "execution_count": 77,
   "metadata": {},
   "outputs": [
    {
     "name": "stdout",
     "output_type": "stream",
     "text": [
      "Accuracy Score: 0.774844849109581\n",
      "ROC AUC Score: 0.8104579054178336\n",
      "F1 Score: 0.6495742203615733\n",
      "Recall Score: 0.6149575027043733\n"
     ]
    }
   ],
   "source": [
    "cross_validate(rf, 5)"
   ]
  },
  {
   "cell_type": "code",
   "execution_count": 78,
   "metadata": {},
   "outputs": [
    {
     "data": {
      "image/png": "[encoded data removed]",
      "text/plain": [
       "<Figure size 480x320 with 2 Axes>"
      ]
     },
     "metadata": {
      "needs_background": "light"
     },
     "output_type": "display_data"
    }
   ],
   "source": [
    "make_confusion_matrix(d_tree)"
   ]
  },
  {
   "cell_type": "code",
   "execution_count": 79,
   "metadata": {},
   "outputs": [
    {
     "data": {
      "image/png": "[encoded data removed]",
      "text/plain": [
       "<Figure size 480x320 with 2 Axes>"
      ]
     },
     "metadata": {
      "needs_background": "light"
     },
     "output_type": "display_data"
    }
   ],
   "source": [
    "make_confusion_matrix(rf)"
   ]
  },
  {
   "cell_type": "code",
   "execution_count": 80,
   "metadata": {},
   "outputs": [
    {
     "name": "stdout",
     "output_type": "stream",
     "text": [
      "              precision    recall  f1-score   support\n",
      "\n",
      "           0       0.80      0.86      0.83      1707\n",
      "           1       0.71      0.61      0.66       935\n",
      "\n",
      "   micro avg       0.77      0.77      0.77      2642\n",
      "   macro avg       0.75      0.74      0.74      2642\n",
      "weighted avg       0.77      0.77      0.77      2642\n",
      "\n"
     ]
    }
   ],
   "source": [
    "print(classification_report(y_test, rf.predict(X_test)))"
   ]
  },
  {
   "cell_type": "code",
   "execution_count": 81,
   "metadata": {},
   "outputs": [
    {
     "data": {
      "application/vnd.jupyter.widget-view+json": {
       "model_id": "0c7655c4457f4e4896a65d0800b03811",
       "version_major": 2,
       "version_minor": 0
      },
      "text/plain": [
       "interactive(children=(FloatSlider(value=0.5, description='threshold', max=1.0, step=0.01), Output()), _dom_cla…"
      ]
     },
     "metadata": {},
     "output_type": "display_data"
    }
   ],
   "source": [
    "from ipywidgets import interactive, FloatSlider\n",
    "interactive(lambda threshold: threshold_cm(rf, threshold), threshold=(0.0,1.0,0.01))"
   ]
  },
  {
   "cell_type": "markdown",
   "metadata": {},
   "source": [
    "#### All models make a disproportionate number of non-customer predictions. I want to increase customer recall without significantly reducing roc_auc scores. I will try resampling to improve recall scores. \n",
    "\n",
    "#### Since models are gaining accuracy from making excessive non-customer predicitons, that metric will be disregarded going forward."
   ]
  },
  {
   "cell_type": "markdown",
   "metadata": {},
   "source": [
    "### Smote Oversampling"
   ]
  },
  {
   "cell_type": "code",
   "execution_count": 82,
   "metadata": {},
   "outputs": [
    {
     "name": "stdout",
     "output_type": "stream",
     "text": [
      "Logistic Regression on SMOTE Train Data; Test Recall: 0.634, Test AUC: 0.806\n"
     ]
    }
   ],
   "source": [
    "smote = imblearn.over_sampling.SMOTE(ratio={0:8676,1:4532*2})\n",
    "    \n",
    "X_tr_smote, y_tr_smote = smote.fit_sample(X_train, y_train)\n",
    "\n",
    "lr_smote = LogisticRegression(solver='liblinear', C=1) \n",
    "lr_smote.fit(X_tr_smote, y_tr_smote)\n",
    "\n",
    "print('Logistic Regression on SMOTE Train Data; Test Recall: %.3f, Test AUC: %.3f' % \\\n",
    "        (recall_score(lr_smote.predict(X_test), y_test), roc_auc_score(y_test, lr_smote.predict_proba(X_test)[:,1])))"
   ]
  },
  {
   "cell_type": "code",
   "execution_count": 83,
   "metadata": {},
   "outputs": [
    {
     "name": "stdout",
     "output_type": "stream",
     "text": [
      "              precision    recall  f1-score   support\n",
      "\n",
      "           0       0.84      0.77      0.80      1707\n",
      "           1       0.63      0.74      0.68       935\n",
      "\n",
      "   micro avg       0.76      0.76      0.76      2642\n",
      "   macro avg       0.74      0.75      0.74      2642\n",
      "weighted avg       0.77      0.76      0.76      2642\n",
      "\n"
     ]
    }
   ],
   "source": [
    "print(classification_report(y_test, lr_smote.predict(X_test)))"
   ]
  },
  {
   "cell_type": "code",
   "execution_count": 84,
   "metadata": {},
   "outputs": [
    {
     "name": "stdout",
     "output_type": "stream",
     "text": [
      "KNN on SMOTE Train Data; Test Recall: 0.646, Test AUC: 0.791\n"
     ]
    }
   ],
   "source": [
    "knn_smote = KNeighborsClassifier(n_neighbors= 10)\n",
    "knn_smote.fit(X_tr_smote, y_tr_smote)\n",
    "\n",
    "print('KNN on SMOTE Train Data; Test Recall: %.3f, Test AUC: %.3f' % \\\n",
    "      (recall_score(knn_smote.predict(X_test), y_test), roc_auc_score(y_test, knn_smote.predict_proba(X_test)[:,1])))"
   ]
  },
  {
   "cell_type": "code",
   "execution_count": 85,
   "metadata": {},
   "outputs": [
    {
     "data": {
      "image/png": "[encoded data removed]",
      "text/plain": [
       "<Figure size 480x320 with 2 Axes>"
      ]
     },
     "metadata": {
      "needs_background": "light"
     },
     "output_type": "display_data"
    }
   ],
   "source": [
    "make_confusion_matrix(knn_smote)"
   ]
  },
  {
   "cell_type": "code",
   "execution_count": 86,
   "metadata": {},
   "outputs": [
    {
     "name": "stdout",
     "output_type": "stream",
     "text": [
      "              precision    recall  f1-score   support\n",
      "\n",
      "           0       0.82      0.79      0.81      1707\n",
      "           1       0.65      0.69      0.67       935\n",
      "\n",
      "   micro avg       0.76      0.76      0.76      2642\n",
      "   macro avg       0.73      0.74      0.74      2642\n",
      "weighted avg       0.76      0.76      0.76      2642\n",
      "\n"
     ]
    }
   ],
   "source": [
    "print(classification_report(y_test, knn_smote.predict(X_test)))"
   ]
  },
  {
   "cell_type": "code",
   "execution_count": 87,
   "metadata": {},
   "outputs": [
    {
     "name": "stdout",
     "output_type": "stream",
     "text": [
      "Bernoulli on SMOTE Train Data; Test Recall: 0.632, Test AUC: 0.812\n"
     ]
    }
   ],
   "source": [
    "bernoulli_smote = BernoulliNB()\n",
    "bernoulli_smote.fit(X_tr_smote, y_tr_smote)\n",
    "\n",
    "print('Bernoulli on SMOTE Train Data; Test Recall: %.3f, Test AUC: %.3f' % \\\n",
    "      (recall_score(bernoulli_smote.predict(X_test), y_test), roc_auc_score(y_test, bernoulli_smote.predict_proba(X_test)[:,1])))\n"
   ]
  },
  {
   "cell_type": "code",
   "execution_count": 88,
   "metadata": {},
   "outputs": [
    {
     "data": {
      "image/png": "[encoded data removed]",
      "text/plain": [
       "<Figure size 480x320 with 2 Axes>"
      ]
     },
     "metadata": {
      "needs_background": "light"
     },
     "output_type": "display_data"
    }
   ],
   "source": [
    "make_confusion_matrix(bernoulli_smote)"
   ]
  },
  {
   "cell_type": "code",
   "execution_count": 89,
   "metadata": {},
   "outputs": [
    {
     "name": "stdout",
     "output_type": "stream",
     "text": [
      "              precision    recall  f1-score   support\n",
      "\n",
      "           0       0.84      0.77      0.80      1707\n",
      "           1       0.63      0.73      0.68       935\n",
      "\n",
      "   micro avg       0.75      0.75      0.75      2642\n",
      "   macro avg       0.73      0.75      0.74      2642\n",
      "weighted avg       0.76      0.75      0.76      2642\n",
      "\n"
     ]
    }
   ],
   "source": [
    "print(classification_report(y_test, bernoulli_smote.predict(X_test)))"
   ]
  },
  {
   "cell_type": "code",
   "execution_count": 90,
   "metadata": {},
   "outputs": [
    {
     "name": "stdout",
     "output_type": "stream",
     "text": [
      "Decision Tree on SMOTE Train Data; Test Recall: 0.636, Test AUC: 0.755\n"
     ]
    }
   ],
   "source": [
    "d_tree_smote = DecisionTreeClassifier()\n",
    "d_tree_smote.fit(X_tr_smote, y_tr_smote)\n",
    "print('Decision Tree on SMOTE Train Data; Test Recall: %.3f, Test AUC: %.3f' % \\\n",
    "      (recall_score(d_tree_smote.predict(X_test), y_test), roc_auc_score(y_test, d_tree_smote.predict_proba(X_test)[:,1])))"
   ]
  },
  {
   "cell_type": "code",
   "execution_count": 91,
   "metadata": {},
   "outputs": [
    {
     "data": {
      "image/png": "[encoded data removed]",
      "text/plain": [
       "<Figure size 480x320 with 2 Axes>"
      ]
     },
     "metadata": {
      "needs_background": "light"
     },
     "output_type": "display_data"
    }
   ],
   "source": [
    "make_confusion_matrix(d_tree_smote)"
   ]
  },
  {
   "cell_type": "code",
   "execution_count": 92,
   "metadata": {},
   "outputs": [
    {
     "name": "stdout",
     "output_type": "stream",
     "text": [
      "              precision    recall  f1-score   support\n",
      "\n",
      "           0       0.82      0.79      0.80      1707\n",
      "           1       0.64      0.68      0.66       935\n",
      "\n",
      "   micro avg       0.75      0.75      0.75      2642\n",
      "   macro avg       0.73      0.73      0.73      2642\n",
      "weighted avg       0.75      0.75      0.75      2642\n",
      "\n"
     ]
    }
   ],
   "source": [
    "print(classification_report(y_test, d_tree_smote.predict(X_test)))"
   ]
  },
  {
   "cell_type": "code",
   "execution_count": 93,
   "metadata": {},
   "outputs": [
    {
     "name": "stdout",
     "output_type": "stream",
     "text": [
      "Random Forest on SMOTE Train Data; Test Recall: 0.637, Test AUC: 0.791\n"
     ]
    }
   ],
   "source": [
    "rf_smote = RandomForestClassifier(n_estimators=500, max_depth = 50)\n",
    "rf_smote.fit(X_tr_smote, y_tr_smote)\n",
    "print('Random Forest on SMOTE Train Data; Test Recall: %.3f, Test AUC: %.3f' % \\\n",
    "      (recall_score(rf_smote.predict(X_test), y_test), roc_auc_score(y_test, rf_smote.predict_proba(X_test)[:,1])))\n"
   ]
  },
  {
   "cell_type": "code",
   "execution_count": 94,
   "metadata": {},
   "outputs": [
    {
     "data": {
      "image/png": "[encoded data removed]",
      "text/plain": [
       "<Figure size 480x320 with 2 Axes>"
      ]
     },
     "metadata": {
      "needs_background": "light"
     },
     "output_type": "display_data"
    }
   ],
   "source": [
    "make_confusion_matrix(rf_smote)"
   ]
  },
  {
   "cell_type": "code",
   "execution_count": 95,
   "metadata": {},
   "outputs": [
    {
     "name": "stdout",
     "output_type": "stream",
     "text": [
      "              precision    recall  f1-score   support\n",
      "\n",
      "           0       0.83      0.78      0.80      1707\n",
      "           1       0.64      0.70      0.67       935\n",
      "\n",
      "   micro avg       0.75      0.75      0.75      2642\n",
      "   macro avg       0.73      0.74      0.74      2642\n",
      "weighted avg       0.76      0.75      0.76      2642\n",
      "\n"
     ]
    }
   ],
   "source": [
    "print(classification_report(y_test, rf_smote.predict(X_test)))"
   ]
  },
  {
   "cell_type": "markdown",
   "metadata": {},
   "source": [
    "#### All models have better recall scores with SMOTE oversampling, enabling us to identify more customers. Since most models have similar performance, I will tune them to see which tuned SMOTE model returns the best recall scores. "
   ]
  },
  {
   "cell_type": "code",
   "execution_count": 96,
   "metadata": {},
   "outputs": [
    {
     "name": "stdout",
     "output_type": "stream",
     "text": [
      "0.7530815289005173\n",
      "{'weights': 'distance', 'n_neighbors': 27}\n",
      "KNeighborsClassifier(algorithm='auto', leaf_size=30, metric='minkowski',\n",
      "           metric_params=None, n_jobs=None, n_neighbors=27, p=2,\n",
      "           weights='distance')\n"
     ]
    }
   ],
   "source": [
    "# define the parameter values that should be searched\n",
    "k = list(range(1, 31))\n",
    "weights = ['uniform', 'distance']\n",
    "\n",
    "# create a parameter grid: map the parameter names to the values that should be searched\n",
    "param_grid = dict(n_neighbors=k, weights=weights)\n",
    "#print(param_grid)\n",
    "\n",
    "# instantiate and fit the grid\n",
    "knn_grid = RandomizedSearchCV(knn_smote, param_grid, cv=5, scoring='recall')\n",
    "knn_grid.fit(X_tr_smote, y_tr_smote)\n",
    "\n",
    "# view the complete results\n",
    "knn_grid.cv_results_\n",
    "\n",
    "# examine the best model\n",
    "print(knn_grid.best_score_)\n",
    "print(knn_grid.best_params_)\n",
    "print(knn_grid.best_estimator_)"
   ]
  },
  {
   "cell_type": "code",
   "execution_count": 97,
   "metadata": {},
   "outputs": [
    {
     "name": "stdout",
     "output_type": "stream",
     "text": [
      "0.7982119741995255\n",
      "{'C': 0.001}\n",
      "LogisticRegression(C=0.001, class_weight=None, dual=False, fit_intercept=True,\n",
      "          intercept_scaling=1, max_iter=100, multi_class='warn',\n",
      "          n_jobs=None, penalty='l2', random_state=None, solver='liblinear',\n",
      "          tol=0.0001, verbose=0, warm_start=False)\n"
     ]
    }
   ],
   "source": [
    "# define the parameter values that should be searched\n",
    "C = [.0001, .001, .01, 1, 10, 100, 1000, 10000]\n",
    "\n",
    "# create a parameter grid: map the parameter names to the values that should be searched\n",
    "param_grid = dict(C=C)\n",
    "#print(param_grid)\n",
    "\n",
    "# instantiate and fit the grid\n",
    "lr_grid = RandomizedSearchCV(lr_smote, param_grid, cv=5, scoring='recall')\n",
    "lr_grid.fit(X_tr_smote, y_tr_smote)\n",
    "\n",
    "# view the complete results\n",
    "lr_grid.cv_results_\n",
    "\n",
    "# examine the best model\n",
    "print(lr_grid.best_score_)\n",
    "print(lr_grid.best_params_)\n",
    "print(lr_grid.best_estimator_)\n"
   ]
  },
  {
   "cell_type": "code",
   "execution_count": 98,
   "metadata": {
    "scrolled": true
   },
   "outputs": [
    {
     "name": "stdout",
     "output_type": "stream",
     "text": [
      "0.7791249183201984\n",
      "{'min_samples_split': 2, 'min_samples_leaf': 1, 'max_features': 'auto', 'max_depth': 60}\n",
      "DecisionTreeClassifier(class_weight=None, criterion='gini', max_depth=60,\n",
      "            max_features='auto', max_leaf_nodes=None,\n",
      "            min_impurity_decrease=0.0, min_impurity_split=None,\n",
      "            min_samples_leaf=1, min_samples_split=2,\n",
      "            min_weight_fraction_leaf=0.0, presort=False, random_state=None,\n",
      "            splitter='best')\n"
     ]
    }
   ],
   "source": [
    "params_grid = {\n",
    " 'max_depth': [10, 20, 30, 40, 50, 60, 70, 80, 90, 100, None],\n",
    " 'max_features': ['auto', 'sqrt'],\n",
    " 'min_samples_leaf': [1, 2, 4],\n",
    " 'min_samples_split': [2, 5, 10]}\n",
    "\n",
    "dt_grid = RandomizedSearchCV(d_tree_smote, params_grid, cv = 5, scoring = 'recall')\n",
    "dt_grid.fit(X_tr_smote, y_tr_smote)\n",
    "\n",
    "dt_grid.cv_results_\n",
    "\n",
    "print(dt_grid.best_score_)\n",
    "print(dt_grid.best_params_)\n",
    "print(dt_grid.best_estimator_)"
   ]
  },
  {
   "cell_type": "code",
   "execution_count": 99,
   "metadata": {},
   "outputs": [
    {
     "name": "stdout",
     "output_type": "stream",
     "text": [
      "0.792584726093044\n",
      "{'n_jobs': 1, 'n_estimators': 100, 'min_samples_split': 2, 'min_samples_leaf': 1, 'max_features': 'auto', 'max_depth': 100, 'bootstrap': True}\n",
      "RandomForestClassifier(bootstrap=True, class_weight=None, criterion='gini',\n",
      "            max_depth=100, max_features='auto', max_leaf_nodes=None,\n",
      "            min_impurity_decrease=0.0, min_impurity_split=None,\n",
      "            min_samples_leaf=1, min_samples_split=2,\n",
      "            min_weight_fraction_leaf=0.0, n_estimators=100, n_jobs=1,\n",
      "            oob_score=False, random_state=None, verbose=0,\n",
      "            warm_start=False)\n"
     ]
    }
   ],
   "source": [
    "params_grid = {'bootstrap': [True, False],\n",
    " 'max_depth': [10, 20, 30, 40, 50, 60, 70, 80, 90, 100, None],\n",
    " 'max_features': ['auto', 'sqrt'],\n",
    " 'min_samples_leaf': [1, 2, 4],\n",
    " 'min_samples_split': [2, 5, 10],\n",
    " 'n_estimators': [50, 100, 200, 400, 600, 800, 1000, 1200, 1400, 1600, 1800, 2000],\n",
    " 'n_jobs': list(range(1,10))}\n",
    "\n",
    "rf_grid = RandomizedSearchCV(rf_smote, params_grid, cv = 5, scoring = 'recall')\n",
    "rf_grid.fit(X_tr_smote, y_tr_smote)\n",
    "\n",
    "rf_grid.cv_results_\n",
    "\n",
    "print(rf_grid.best_score_)\n",
    "print(rf_grid.best_params_)\n",
    "print(rf_grid.best_estimator_)\n"
   ]
  },
  {
   "cell_type": "markdown",
   "metadata": {},
   "source": [
    "#### Tuned Random Forest and Logistic Regression Smote Models returns the best recall scores of any model type. I will see how they perform on test data, look at the tradeoff between precision and recall for each,  and adjust probability thresholds to determine which one to use as final model."
   ]
  },
  {
   "cell_type": "code",
   "execution_count": 100,
   "metadata": {},
   "outputs": [
    {
     "name": "stdout",
     "output_type": "stream",
     "text": [
      "Random Forest on SMOTE Train Data; Test Recall: 0.632, Test AUC: 0.806\n"
     ]
    }
   ],
   "source": [
    "best_lr_smote = LogisticRegression(C=.001)\n",
    "best_lr_smote.fit(X_tr_smote, y_tr_smote)\n",
    "print('Random Forest on SMOTE Train Data; Test Recall: %.3f, Test AUC: %.3f' % \\\n",
    "      (recall_score(best_lr_smote.predict(X_test), y_test), roc_auc_score(y_test, lr_smote.predict_proba(X_test)[:,1])))"
   ]
  },
  {
   "cell_type": "code",
   "execution_count": 101,
   "metadata": {},
   "outputs": [
    {
     "name": "stdout",
     "output_type": "stream",
     "text": [
      "Highest F1 score 0.691 at probability decision threshold >= 0.496\n"
     ]
    },
    {
     "data": {
      "image/png": "[encoded data removed]",
      "text/plain": [
       "<Figure size 432x288 with 1 Axes>"
      ]
     },
     "metadata": {
      "needs_background": "light"
     },
     "output_type": "display_data"
    }
   ],
   "source": [
    "f1_scores(best_lr_smote)"
   ]
  },
  {
   "cell_type": "code",
   "execution_count": 102,
   "metadata": {},
   "outputs": [
    {
     "data": {
      "image/png": "[encoded data removed]",
      "text/plain": [
       "<Figure size 480x320 with 1 Axes>"
      ]
     },
     "metadata": {
      "needs_background": "light"
     },
     "output_type": "display_data"
    },
    {
     "data": {
      "image/png": "[encoded data removed]",
      "text/plain": [
       "<Figure size 480x320 with 1 Axes>"
      ]
     },
     "metadata": {
      "needs_background": "light"
     },
     "output_type": "display_data"
    }
   ],
   "source": [
    "precision_curve, recall_curve, threshold_curve = precision_recall_curve(y_test, best_lr_smote.predict_proba(X_test)[:,1] )\n",
    "\n",
    "plt.figure(dpi=80)\n",
    "plt.plot(threshold_curve, precision_curve[1:],label='precision')\n",
    "plt.plot(threshold_curve, recall_curve[1:], label='recall')\n",
    "plt.legend(loc='lower left')\n",
    "plt.xlabel('Threshold (Label=Customer Above Threshold)');\n",
    "plt.title('Precision and Recall Curves');\n",
    "\n",
    "plt.figure(dpi=80)\n",
    "plt.plot(recall_curve[1:], precision_curve[1:],label='precision')\n",
    "plt.xlabel(\"Recall\")\n",
    "plt.ylabel(\"Precision\")\n",
    "plt.title(\"Precision-Recall Curve\");"
   ]
  },
  {
   "cell_type": "code",
   "execution_count": 103,
   "metadata": {},
   "outputs": [
    {
     "data": {
      "application/vnd.jupyter.widget-view+json": {
       "model_id": "c45274e3796c44d0937e9739131a2faf",
       "version_major": 2,
       "version_minor": 0
      },
      "text/plain": [
       "interactive(children=(FloatSlider(value=0.5, description='threshold', max=1.0, step=0.01), Output()), _dom_cla…"
      ]
     },
     "metadata": {},
     "output_type": "display_data"
    }
   ],
   "source": [
    "from ipywidgets import interactive, FloatSlider\n",
    "interactive(lambda threshold: threshold_cm(best_lr_smote, threshold), threshold=(0.0,1.0,0.01))"
   ]
  },
  {
   "cell_type": "code",
   "execution_count": 104,
   "metadata": {},
   "outputs": [
    {
     "name": "stdout",
     "output_type": "stream",
     "text": [
      "Random Forest on SMOTE Train Data; Test Recall: 0.641, Test AUC: 0.791\n"
     ]
    }
   ],
   "source": [
    "best_rf_smote = RandomForestClassifier(n_estimators=100,max_features='sqrt',bootstrap=True, min_samples_leaf=1, min_samples_split=5, max_depth=40, n_jobs = 9)\n",
    "best_rf_smote.fit(X_tr_smote, y_tr_smote)\n",
    "print('Random Forest on SMOTE Train Data; Test Recall: %.3f, Test AUC: %.3f' % \\\n",
    "      (recall_score(best_rf_smote.predict(X_test), y_test), roc_auc_score(y_test, rf_smote.predict_proba(X_test)[:,1])))"
   ]
  },
  {
   "cell_type": "code",
   "execution_count": 105,
   "metadata": {},
   "outputs": [
    {
     "data": {
      "image/png": "[encoded data removed]",
      "text/plain": [
       "<Figure size 480x320 with 1 Axes>"
      ]
     },
     "metadata": {
      "needs_background": "light"
     },
     "output_type": "display_data"
    },
    {
     "data": {
      "image/png": "[encoded data removed]",
      "text/plain": [
       "<Figure size 480x320 with 1 Axes>"
      ]
     },
     "metadata": {
      "needs_background": "light"
     },
     "output_type": "display_data"
    }
   ],
   "source": [
    "precision_curve, recall_curve, threshold_curve = precision_recall_curve(y_test, best_rf_smote.predict_proba(X_test)[:,1] )\n",
    "\n",
    "plt.figure(dpi=80)\n",
    "plt.plot(threshold_curve, precision_curve[1:],label='precision')\n",
    "plt.plot(threshold_curve, recall_curve[1:], label='recall')\n",
    "plt.legend(loc='lower left')\n",
    "plt.xlabel('Threshold (Label=Customer Above Threshold)');\n",
    "plt.title('Precision and Recall Curves');\n",
    "\n",
    "plt.figure(dpi=80)\n",
    "plt.plot(recall_curve[1:], precision_curve[1:],label='precision')\n",
    "plt.xlabel(\"Recall\")\n",
    "plt.ylabel(\"Precision\")\n",
    "plt.title(\"Precision-Recall Curve\");"
   ]
  },
  {
   "cell_type": "code",
   "execution_count": 106,
   "metadata": {},
   "outputs": [
    {
     "name": "stdout",
     "output_type": "stream",
     "text": [
      "Highest F1 score 0.673 at probability decision threshold >= 0.278\n"
     ]
    },
    {
     "data": {
      "image/png": "[encoded data removed]",
      "text/plain": [
       "<Figure size 432x288 with 1 Axes>"
      ]
     },
     "metadata": {
      "needs_background": "light"
     },
     "output_type": "display_data"
    }
   ],
   "source": [
    "f1_scores(best_rf_smote)"
   ]
  },
  {
   "cell_type": "code",
   "execution_count": 107,
   "metadata": {},
   "outputs": [
    {
     "data": {
      "application/vnd.jupyter.widget-view+json": {
       "model_id": "28c9559310e94c15aee49907cc5bec18",
       "version_major": 2,
       "version_minor": 0
      },
      "text/plain": [
       "interactive(children=(FloatSlider(value=0.5, description='threshold', max=1.0, step=0.01), Output()), _dom_cla…"
      ]
     },
     "metadata": {},
     "output_type": "display_data"
    }
   ],
   "source": [
    "from ipywidgets import interactive, FloatSlider\n",
    "interactive(lambda threshold: threshold_cm(best_rf_smote, threshold), threshold=(0.0,1.0,0.01))"
   ]
  },
  {
   "cell_type": "markdown",
   "metadata": {},
   "source": [
    "Best probability thresholds for tuned models are .26 for Random Forest and .45 for Logistic Regression. Lowering threshold further results in only slightly higher customer recall at the expense of much lower precision with non-customer predictions. "
   ]
  },
  {
   "cell_type": "markdown",
   "metadata": {},
   "source": [
    "#### Final Logistic Regression model has virutallly identical recall with final Random Forest Model. However, it has better precision in prediciting non-customers and is more interpretable, so  Logistic Regression SMOTE model with probabilty threshold of .45 is the final model. Coefficients listed below. "
   ]
  },
  {
   "cell_type": "code",
   "execution_count": 108,
   "metadata": {},
   "outputs": [
    {
     "data": {
      "text/plain": [
       "array([[-0.00397658,  0.0279002 , -1.04558092,  0.61356563]])"
      ]
     },
     "execution_count": 108,
     "metadata": {},
     "output_type": "execute_result"
    }
   ],
   "source": [
    "best_lr_smote.coef_"
   ]
  }
 ],
 "metadata": {
  "kernelspec": {
   "display_name": "metis",
   "language": "python",
   "name": "metis"
  },
  "language_info": {
   "codemirror_mode": {
    "name": "ipython",
    "version": 3
   },
   "file_extension": ".py",
   "mimetype": "text/x-python",
   "name": "python",
   "nbconvert_exporter": "python",
   "pygments_lexer": "ipython3",
   "version": "3.6.8"
  },
  "varInspector": {
   "cols": {
    "lenName": 16,
    "lenType": 16,
    "lenVar": 40
   },
   "kernels_config": {
    "python": {
     "delete_cmd_postfix": "",
     "delete_cmd_prefix": "del ",
     "library": "var_list.py",
     "varRefreshCmd": "print(var_dic_list())"
    },
    "r": {
     "delete_cmd_postfix": ") ",
     "delete_cmd_prefix": "rm(",
     "library": "var_list.r",
     "varRefreshCmd": "cat(var_dic_list()) "
    }
   },
   "types_to_exclude": [
    "module",
    "function",
    "builtin_function_or_method",
    "instance",
    "_Feature"
   ],
   "window_display": false
  }
 },
 "nbformat": 4,
 "nbformat_minor": 2
}
